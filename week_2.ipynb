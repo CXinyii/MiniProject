{
 "cells": [
  {
   "cell_type": "markdown",
   "id": "e667a61b",
   "metadata": {},
   "source": [
    "# Learning outcomes\n",
    "1. Python fundamentals\n",
    "    - basic syntac\n",
    "    - custom function\n",
    "    - data types\n",
    "    - data structures\n",
    "    - numpy modules\n",
    "\n",
    "2. Create custom functions"
   ]
  },
  {
   "cell_type": "markdown",
   "id": "ac17eddb",
   "metadata": {},
   "source": [
    "# Fundamentals"
   ]
  },
  {
   "cell_type": "markdown",
   "id": "09a48cfd",
   "metadata": {},
   "source": [
    "## basic syntax"
   ]
  },
  {
   "cell_type": "code",
   "execution_count": 1,
   "id": "57af57de",
   "metadata": {},
   "outputs": [
    {
     "name": "stdout",
     "output_type": "stream",
     "text": [
      "Hello World\n"
     ]
    }
   ],
   "source": [
    "print(\"Hello World\")"
   ]
  },
  {
   "cell_type": "markdown",
   "id": "f18973b2",
   "metadata": {},
   "source": [
    "## custom function"
   ]
  },
  {
   "cell_type": "code",
   "execution_count": 2,
   "id": "3f749583",
   "metadata": {},
   "outputs": [],
   "source": [
    "def AddTwoNumbers(x, y):\n",
    "    \"\"\"This function is to add 2 number together\"\"\"\n",
    "    return (x+y)"
   ]
  },
  {
   "cell_type": "code",
   "execution_count": 3,
   "id": "91bf689c",
   "metadata": {},
   "outputs": [
    {
     "data": {
      "text/plain": [
       "12"
      ]
     },
     "execution_count": 3,
     "metadata": {},
     "output_type": "execute_result"
    }
   ],
   "source": [
    "AddTwoNumbers(2, 10)"
   ]
  },
  {
   "cell_type": "code",
   "execution_count": 4,
   "id": "bc088719",
   "metadata": {},
   "outputs": [],
   "source": [
    "def compare(x, y):\n",
    "    \"\"\"Compare 2 numbers\"\"\"\n",
    "    if x > y:\n",
    "        print(f\"{x} is larger than {y}.\")\n",
    "    elif x < y:\n",
    "        print(f\"{x} is less than {y}.\")\n",
    "    else:\n",
    "        print(f\"{x} and {y} are equal.\")"
   ]
  },
  {
   "cell_type": "code",
   "execution_count": 5,
   "id": "c085861e",
   "metadata": {},
   "outputs": [
    {
     "name": "stdout",
     "output_type": "stream",
     "text": [
      "9 is less than 10.\n"
     ]
    }
   ],
   "source": [
    "compare(9, 10)"
   ]
  },
  {
   "cell_type": "markdown",
   "id": "1d25e570",
   "metadata": {},
   "source": [
    "## data types\n",
    "- floating point numbers\n",
    "- integer\n",
    "- string\n",
    "- boolean\n",
    "- complex number (most of time, this is not helpful) "
   ]
  },
  {
   "cell_type": "code",
   "execution_count": 6,
   "id": "375f18d5",
   "metadata": {},
   "outputs": [],
   "source": [
    "import math"
   ]
  },
  {
   "cell_type": "code",
   "execution_count": 7,
   "id": "c38e2292",
   "metadata": {},
   "outputs": [],
   "source": [
    "x = math.pi\n",
    "y = 0\n",
    "z = \"Computer vision is fun\"\n",
    "z1 = False\n",
    "z2 = 2j"
   ]
  },
  {
   "cell_type": "code",
   "execution_count": 8,
   "id": "bb57ad36",
   "metadata": {},
   "outputs": [
    {
     "name": "stdout",
     "output_type": "stream",
     "text": [
      "<class 'float'>\n",
      "<class 'int'>\n",
      "<class 'str'>\n",
      "<class 'bool'>\n",
      "<class 'complex'>\n"
     ]
    }
   ],
   "source": [
    "print(type(x))\n",
    "print(type(y))\n",
    "print(type(z))\n",
    "print(type(z1))\n",
    "print(type(z2))"
   ]
  },
  {
   "cell_type": "code",
   "execution_count": 9,
   "id": "2685b558",
   "metadata": {},
   "outputs": [],
   "source": [
    "# if do not put print above\n",
    "from IPython.core.interactiveshell import InteractiveShell\n",
    "InteractiveShell.ast_node_interactivity = 'all'"
   ]
  },
  {
   "cell_type": "code",
   "execution_count": 10,
   "id": "a24402b0",
   "metadata": {},
   "outputs": [],
   "source": [
    "InteractiveShell.ast_node_interactivity = 'last_expr'"
   ]
  },
  {
   "cell_type": "code",
   "execution_count": 11,
   "id": "e1f5404f",
   "metadata": {},
   "outputs": [],
   "source": [
    "# casting (conversion between data types)\n",
    "x = 11/3\n",
    "y = \"2.141\""
   ]
  },
  {
   "cell_type": "code",
   "execution_count": 12,
   "id": "b002dd50",
   "metadata": {},
   "outputs": [
    {
     "name": "stdout",
     "output_type": "stream",
     "text": [
      "3\n",
      "2.141\n"
     ]
    }
   ],
   "source": [
    "print(int(x))\n",
    "print(float(y))"
   ]
  },
  {
   "cell_type": "markdown",
   "id": "5e471143",
   "metadata": {},
   "source": [
    "## Data structure"
   ]
  },
  {
   "cell_type": "markdown",
   "id": "429be78d",
   "metadata": {},
   "source": [
    "### List and tuple\n",
    "List and tuple are variables that can hold multiple items. Differences:\n",
    "| List | Tuple |\n",
    "| --- | --- |\n",
    "| $[]$ | () |\n",
    "| changeble | unchangeble |"
   ]
  },
  {
   "cell_type": "code",
   "execution_count": 13,
   "id": "b61b0786",
   "metadata": {},
   "outputs": [
    {
     "data": {
      "text/plain": [
       "['a', 'b', 'c']"
      ]
     },
     "execution_count": 13,
     "metadata": {},
     "output_type": "execute_result"
    }
   ],
   "source": [
    "myList = [\"a\", \"b\", \"c\"]\n",
    "myList"
   ]
  },
  {
   "cell_type": "code",
   "execution_count": 14,
   "id": "5df7e2bb",
   "metadata": {},
   "outputs": [
    {
     "data": {
      "text/plain": [
       "('a', 'b', 'c')"
      ]
     },
     "execution_count": 14,
     "metadata": {},
     "output_type": "execute_result"
    }
   ],
   "source": [
    "myTuble = (\"a\", \"b\", \"c\")\n",
    "myTuble"
   ]
  },
  {
   "cell_type": "code",
   "execution_count": 15,
   "id": "2f051fe1",
   "metadata": {},
   "outputs": [
    {
     "data": {
      "text/plain": [
       "['a', 10, 'c']"
      ]
     },
     "execution_count": 15,
     "metadata": {},
     "output_type": "execute_result"
    }
   ],
   "source": [
    "myList[1] = 10\n",
    "myList"
   ]
  },
  {
   "cell_type": "code",
   "execution_count": 16,
   "id": "3a9d041f",
   "metadata": {},
   "outputs": [
    {
     "name": "stdout",
     "output_type": "stream",
     "text": [
      "Tuple is immutable!\n"
     ]
    }
   ],
   "source": [
    "try:\n",
    "    myTuple[1] = 10\n",
    "except:\n",
    "    print(\"Tuple is immutable!\")"
   ]
  },
  {
   "cell_type": "markdown",
   "id": "5dbd2262",
   "metadata": {},
   "source": [
    "## Weekly Activity"
   ]
  },
  {
   "cell_type": "markdown",
   "id": "3f0fd7d3",
   "metadata": {},
   "source": [
    "1. Try to write a simple custom function to determine whether a given integer is odd or even number."
   ]
  },
  {
   "cell_type": "code",
   "execution_count": 17,
   "id": "812bb0f1",
   "metadata": {},
   "outputs": [],
   "source": [
    "def determineType(x):\n",
    "    \"\"\"determine a given integer is odd or even number\"\"\"\n",
    "    if x%2 == 0:\n",
    "        print(f\"{x} is an even number.\")\n",
    "    else:\n",
    "        print(f\"{x} is a odd number.\")"
   ]
  },
  {
   "cell_type": "code",
   "execution_count": 18,
   "id": "0320ed01",
   "metadata": {},
   "outputs": [
    {
     "name": "stdout",
     "output_type": "stream",
     "text": [
      "8 is an even number.\n"
     ]
    }
   ],
   "source": [
    "determineType(8)"
   ]
  },
  {
   "cell_type": "markdown",
   "id": "9c3f3b13",
   "metadata": {},
   "source": [
    "2. Write a simple example code to show that Numpy is more efficient in numerical computation of large arrays of data than equivalent Python list."
   ]
  },
  {
   "cell_type": "code",
   "execution_count": 19,
   "id": "d189dca6",
   "metadata": {},
   "outputs": [
    {
     "name": "stdout",
     "output_type": "stream",
     "text": [
      "Python List Computation Time: 0.2293 seconds\n",
      "NumPy Array Computation Time: 0.0010 seconds\n"
     ]
    }
   ],
   "source": [
    "import numpy as np\n",
    "import time\n",
    "\n",
    "# Generate a large array of data\n",
    "array_size = 10**6  # 1 million elements\n",
    "\n",
    "# Using Python lists\n",
    "python_list = [i for i in range(array_size)]\n",
    "\n",
    "# Using NumPy arrays\n",
    "numpy_array = np.arange(array_size)\n",
    "\n",
    "# Perform a simple numerical operation on the array\n",
    "start_time = time.time()\n",
    "python_result = [x ** 2 for x in python_list]\n",
    "python_time = time.time() - start_time\n",
    "\n",
    "start_time = time.time()\n",
    "numpy_result = numpy_array ** 2\n",
    "numpy_time = time.time() - start_time\n",
    "\n",
    "# Print the time taken for each computation\n",
    "print(f\"Python List Computation Time: {python_time:.4f} seconds\")\n",
    "print(f\"NumPy Array Computation Time: {numpy_time:.4f} seconds\")"
   ]
  },
  {
   "cell_type": "markdown",
   "id": "cf412348",
   "metadata": {},
   "source": [
    "3. Run the following codes:\n",
    "\n",
    "What do you notice? Propose a way to reassign arr_slice with new value without modifying my_arr."
   ]
  },
  {
   "cell_type": "code",
   "execution_count": 20,
   "id": "47558a96",
   "metadata": {},
   "outputs": [
    {
     "name": "stdout",
     "output_type": "stream",
     "text": [
      "[0 1 2 3 4 5 6 7 8 9]\n",
      "[ 0  1  2  3 25 25 25  7  8  9]\n",
      "[-1 25 25]\n",
      "[ 0  1  2  3 25 25 25  7  8  9]\n"
     ]
    }
   ],
   "source": [
    "my_arr = np.arange(10)\n",
    "print(my_arr)\n",
    "\n",
    "my_arr[4:7] = 25\n",
    "print(my_arr)\n",
    "\n",
    "arr_slice = my_arr[4:7].copy()\n",
    "\n",
    "# Change the first element of arr_slice to -1\n",
    "arr_slice[0]= -1\n",
    "\n",
    "print(arr_slice)\n",
    "print(my_arr)"
   ]
  },
  {
   "cell_type": "markdown",
   "id": "81edd34b",
   "metadata": {},
   "source": [
    "4. Create an image as shown as the following with the help of Numpy and matplotlib modules. You can arbitrarily set the dimension of the image and white circular spot at the middle. custom_image"
   ]
  },
  {
   "cell_type": "code",
   "execution_count": 21,
   "id": "7a07c595",
   "metadata": {},
   "outputs": [
    {
     "data": {
      "image/png": "[encoded data removed]",
      "text/plain": [
       "<Figure size 640x480 with 1 Axes>"
      ]
     },
     "metadata": {},
     "output_type": "display_data"
    }
   ],
   "source": [
    "import numpy as np\n",
    "import matplotlib.pyplot as plt\n",
    "\n",
    "# Create a blank canvas (you can adjust the dimensions as needed)\n",
    "width, height = 400, 400\n",
    "image = np.zeros((height, width, 3), dtype=np.uint8)\n",
    "\n",
    "# Calculate the center of the image\n",
    "center_x, center_y = width // 2, height // 2\n",
    "\n",
    "# Calculate the radius of the circle\n",
    "radius = min(center_x, center_y) // 2\n",
    "\n",
    "# Create a mesh grid of coordinates\n",
    "y_coords, x_coords = np.ogrid[:height, :width]\n",
    "\n",
    "# Create the circular spot using the distance formula\n",
    "distance = np.sqrt((x_coords - center_x)**2 + (y_coords - center_y)**2)\n",
    "\n",
    "# Set a threshold to define the circle\n",
    "circle_mask = distance <= radius\n",
    "\n",
    "# Set the color of the circle (white)\n",
    "image[circle_mask] = [255, 255, 255]\n",
    "\n",
    "# Display the image\n",
    "plt.imshow(image)\n",
    "plt.axis('off')  # Turn off axis labels and ticks\n",
    "plt.show()\n"
   ]
  },
  {
   "cell_type": "code",
   "execution_count": null,
   "id": "25c085a5",
   "metadata": {},
   "outputs": [],
   "source": []
  }
 ],
 "metadata": {
  "kernelspec": {
   "display_name": "Python 3 (ipykernel)",
   "language": "python",
   "name": "python3"
  },
  "language_info": {
   "codemirror_mode": {
    "name": "ipython",
    "version": 3
   },
   "file_extension": ".py",
   "mimetype": "text/x-python",
   "name": "python",
   "nbconvert_exporter": "python",
   "pygments_lexer": "ipython3",
   "version": "3.10.9"
  }
 },
 "nbformat": 4,
 "nbformat_minor": 5
}
